{
 "cells": [
  {
   "cell_type": "markdown",
   "id": "1cb9f934-3a17-4806-a6f6-590dfbdab066",
   "metadata": {},
   "source": [
    "# What is RAG?"
   ]
  },
  {
   "cell_type": "markdown",
   "id": "4f9a3b1a-40cc-438a-bc18-649c6b3d3ded",
   "metadata": {},
   "source": [
    "RAG stands for Retrieval Augmented Generation.\n",
    "\n",
    "The main goal of RAG is to improve the generation outptus of LLMs.\n",
    "\n",
    "Each step can be roughly broken down to:\n",
    "\n",
    "* Retrieval - Seeking relevant information from a source given a query. For example, getting relevant passages of Wikipedia text from a database given a question.\n",
    "* Augmented - Using the relevant retrieved information to modify an input to a generative model (e.g. an LLM).\n",
    "* Generation - Generating an output given an input. For example, in the case of an LLM, generating a passage of text given an input prompt."
   ]
  },
  {
   "cell_type": "markdown",
   "id": "91ef86bc-511d-47d8-a912-c0c4a8bf90d1",
   "metadata": {},
   "source": [
    "### Why would we care about token count?\n",
    "\n",
    "Token count is important to think about because:\n",
    "* Embedding models don't deal with infinite tokens.\n",
    "* LLM's don't deal with infinite tokens.\n",
    "\n",
    "For example an embedding model may have been trained to embed sequences of 384 tokens into numerical space (sentence-transformers ` all-mpnet-base-v2 `, see: https://sbert.net/docs/sentence_transformer/pretrained_models.html)\n",
    "\n",
    "As for LLM's, they can't accept infinite tokens in their context window."
   ]
  },
  {
   "cell_type": "code",
   "execution_count": null,
   "id": "9346eb4d-f0a8-4794-a0d0-152e3add6c93",
   "metadata": {},
   "outputs": [],
   "source": [
    "    "
   ]
  }
 ],
 "metadata": {
  "kernelspec": {
   "display_name": "Python 3 (ipykernel)",
   "language": "python",
   "name": "python3"
  },
  "language_info": {
   "codemirror_mode": {
    "name": "ipython",
    "version": 3
   },
   "file_extension": ".py",
   "mimetype": "text/x-python",
   "name": "python",
   "nbconvert_exporter": "python",
   "pygments_lexer": "ipython3",
   "version": "3.11.9"
  }
 },
 "nbformat": 4,
 "nbformat_minor": 5
}
